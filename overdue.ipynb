{
 "cells": [
  {
   "cell_type": "code",
   "execution_count": null,
   "metadata": {},
   "outputs": [],
   "source": [
    "# Don't touch this one. just press the play button. \n",
    "\n",
    "#Remove Preexisting Files\n",
    "! rm -rf overdue\n",
    "! rm -rf *\n",
    "\n",
    "#Bootstrap Files\n",
    "! git clone https://github.com/jfypk/overdue.git\n",
    "! mv -v ./overdue/* .\n",
    "! pip3 install -r requirements.txt\n",
    "\n",
    "#Clear Bootstrap Logs\n",
    "from IPython.display import clear_output \n",
    "clear_output()\n",
    "\n",
    "print(\"Successful Bootstrap!!!\")"
   ]
  },
  {
   "cell_type": "code",
   "execution_count": null,
   "metadata": {},
   "outputs": [],
   "source": [
    "! python3 main.py"
   ]
  }
 ],
 "metadata": {
  "language_info": {
   "name": "python"
  },
  "orig_nbformat": 4
 },
 "nbformat": 4,
 "nbformat_minor": 2
}
